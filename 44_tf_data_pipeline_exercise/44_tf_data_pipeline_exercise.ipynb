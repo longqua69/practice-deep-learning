{
  "nbformat": 4,
  "nbformat_minor": 0,
  "metadata": {
    "colab": {
      "name": "44_tf_data_pipeline_exercise.ipynb",
      "provenance": [],
      "collapsed_sections": [],
      "authorship_tag": "ABX9TyNBdKIdSQqWuCakWJn3aQ3W",
      "include_colab_link": true
    },
    "kernelspec": {
      "name": "python3",
      "display_name": "Python 3"
    },
    "language_info": {
      "name": "python"
    }
  },
  "cells": [
    {
      "cell_type": "markdown",
      "metadata": {
        "id": "view-in-github",
        "colab_type": "text"
      },
      "source": [
        "<a href=\"https://colab.research.google.com/github/longqua69/practice-deep-learning/blob/44_tf_data_pipeline/44_tf_data_pipeline_exercise/44_tf_data_pipeline_exercise.ipynb\" target=\"_parent\"><img src=\"https://colab.research.google.com/assets/colab-badge.svg\" alt=\"Open In Colab\"/></a>"
      ]
    },
    {
      "cell_type": "code",
      "metadata": {
        "id": "vniRD-3tE70G"
      },
      "source": [
        "import tensorflow as tf"
      ],
      "execution_count": 1,
      "outputs": []
    },
    {
      "cell_type": "markdown",
      "metadata": {
        "id": "lKqVs68dFYI9"
      },
      "source": [
        "# Create dataset"
      ]
    },
    {
      "cell_type": "markdown",
      "metadata": {
        "id": "RucXvVuPQPv0"
      },
      "source": [
        "## Clone the entire repository and navigate to the exercise directory"
      ]
    },
    {
      "cell_type": "code",
      "metadata": {
        "id": "w2FWlQHwNja8",
        "outputId": "a598b30c-5915-47d3-d90b-7feabbff99a2",
        "colab": {
          "base_uri": "https://localhost:8080/"
        }
      },
      "source": [
        "# Clone the entire repo\n",
        "!git clone -l -s https://github.com/longqua69/practice-deep-learning.git working_dir\n",
        "%cd working_dir\n",
        "!ls -la"
      ],
      "execution_count": 17,
      "outputs": [
        {
          "output_type": "stream",
          "name": "stdout",
          "text": [
            "Cloning into 'working_dir'...\n",
            "warning: --local is ignored\n",
            "remote: Enumerating objects: 50, done.\u001b[K\n",
            "remote: Counting objects: 100% (50/50), done.\u001b[K\n",
            "remote: Compressing objects: 100% (47/47), done.\u001b[K\n",
            "remote: Total 50 (delta 10), reused 21 (delta 1), pack-reused 0\u001b[K\n",
            "Unpacking objects: 100% (50/50), done.\n",
            "/content/working_dir\n",
            "total 28\n",
            "drwxr-xr-x 5 root root 4096 Oct 24 07:37 .\n",
            "drwxr-xr-x 1 root root 4096 Oct 24 07:37 ..\n",
            "drwxr-xr-x 3 root root 4096 Oct 24 07:37 44_tf_data_pipeline_exercise\n",
            "drwxr-xr-x 2 root root 4096 Oct 24 07:37 6_gradient_descent_exercise\n",
            "drwxr-xr-x 8 root root 4096 Oct 24 07:37 .git\n",
            "-rw-r--r-- 1 root root 1065 Oct 24 07:37 LICENSE\n",
            "-rw-r--r-- 1 root root  107 Oct 24 07:37 README.md\n"
          ]
        }
      ]
    },
    {
      "cell_type": "code",
      "metadata": {
        "id": "dz1J4fy9O8qy",
        "outputId": "0d5ec390-6fdd-4dc9-acb8-84dddf91ffb8",
        "colab": {
          "base_uri": "https://localhost:8080/"
        }
      },
      "source": [
        "# Navigate to the exercise working directory\n",
        "%cd 44_tf_data_pipeline_exercise\n",
        "!ls -la"
      ],
      "execution_count": 22,
      "outputs": [
        {
          "output_type": "stream",
          "name": "stdout",
          "text": [
            "/content/working_dir/44_tf_data_pipeline_exercise\n",
            "total 16\n",
            "drwxr-xr-x 3 root root 4096 Oct 24 07:37 .\n",
            "drwxr-xr-x 5 root root 4096 Oct 24 07:37 ..\n",
            "drwxr-xr-x 4 root root 4096 Oct 24 07:37 reviews\n",
            "-rw-r--r-- 1 root root  828 Oct 24 07:37 tf_data_pipeline_exercise.md\n"
          ]
        }
      ]
    },
    {
      "cell_type": "markdown",
      "metadata": {
        "id": "ata9HaYrQlP0"
      },
      "source": [
        "## Load files for creating dataset"
      ]
    },
    {
      "cell_type": "code",
      "metadata": {
        "id": "xUM5yvQNI5H8",
        "outputId": "2a7fa97a-11e7-427c-cbc4-19e20f9eef0a",
        "colab": {
          "base_uri": "https://localhost:8080/"
        }
      },
      "source": [
        "dataset = tf.data.Dataset.list_files('reviews/*/*', shuffle=False)\n",
        "dataset"
      ],
      "execution_count": 24,
      "outputs": [
        {
          "output_type": "execute_result",
          "data": {
            "text/plain": [
              "<TensorSliceDataset shapes: (), types: tf.string>"
            ]
          },
          "metadata": {},
          "execution_count": 24
        }
      ]
    },
    {
      "cell_type": "code",
      "metadata": {
        "id": "YptbzqueP3Ti",
        "outputId": "6bbcfdc8-7b8f-4991-c76e-b79791ecd43f",
        "colab": {
          "base_uri": "https://localhost:8080/"
        }
      },
      "source": [
        "# Take 2 samples\n",
        "for file in dataset.take(2):\n",
        "  print(file.numpy())"
      ],
      "execution_count": 26,
      "outputs": [
        {
          "output_type": "stream",
          "name": "stdout",
          "text": [
            "b'reviews/negative/neg_1.txt'\n",
            "b'reviews/negative/neg_2.txt'\n"
          ]
        }
      ]
    },
    {
      "cell_type": "markdown",
      "metadata": {
        "id": "4X2-Mf-GRGGa"
      },
      "source": [
        "# Create data input pipeline"
      ]
    },
    {
      "cell_type": "code",
      "metadata": {
        "id": "xn8FJlRoROEu"
      },
      "source": [
        ""
      ],
      "execution_count": null,
      "outputs": []
    }
  ]
}