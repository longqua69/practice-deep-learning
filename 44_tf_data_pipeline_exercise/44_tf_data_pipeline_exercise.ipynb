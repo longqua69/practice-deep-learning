{
  "nbformat": 4,
  "nbformat_minor": 0,
  "metadata": {
    "colab": {
      "name": "44_tf_data_pipeline_exercise.ipynb",
      "provenance": [],
      "collapsed_sections": [],
      "authorship_tag": "ABX9TyP2O2/hMbj0KE2lSwvekyKx",
      "include_colab_link": true
    },
    "kernelspec": {
      "name": "python3",
      "display_name": "Python 3"
    },
    "language_info": {
      "name": "python"
    }
  },
  "cells": [
    {
      "cell_type": "markdown",
      "metadata": {
        "id": "view-in-github",
        "colab_type": "text"
      },
      "source": [
        "<a href=\"https://colab.research.google.com/github/longqua69/practice-deep-learning/blob/44_tf_data_pipeline/44_tf_data_pipeline_exercise/44_tf_data_pipeline_exercise.ipynb\" target=\"_parent\"><img src=\"https://colab.research.google.com/assets/colab-badge.svg\" alt=\"Open In Colab\"/></a>"
      ]
    },
    {
      "cell_type": "code",
      "metadata": {
        "id": "vniRD-3tE70G"
      },
      "source": [
        "import tensorflow as tf"
      ],
      "execution_count": 27,
      "outputs": []
    },
    {
      "cell_type": "markdown",
      "metadata": {
        "id": "lKqVs68dFYI9"
      },
      "source": [
        "# Create dataset"
      ]
    },
    {
      "cell_type": "markdown",
      "metadata": {
        "id": "RucXvVuPQPv0"
      },
      "source": [
        "## Clone the entire repository and navigate to the exercise directory"
      ]
    },
    {
      "cell_type": "code",
      "metadata": {
        "id": "w2FWlQHwNja8",
        "colab": {
          "base_uri": "https://localhost:8080/"
        },
        "outputId": "c50d91ca-447f-47c1-cdc9-586e02e2a130"
      },
      "source": [
        "# Clone the entire repo\n",
        "!git clone -l -s https://github.com/longqua69/practice-deep-learning.git working_dir\n",
        "%cd working_dir\n",
        "!ls -la"
      ],
      "execution_count": 28,
      "outputs": [
        {
          "output_type": "stream",
          "name": "stdout",
          "text": [
            "Cloning into 'working_dir'...\n",
            "warning: --local is ignored\n",
            "remote: Enumerating objects: 54, done.\u001b[K\n",
            "remote: Counting objects: 100% (54/54), done.\u001b[K\n",
            "remote: Compressing objects: 100% (51/51), done.\u001b[K\n",
            "remote: Total 54 (delta 12), reused 21 (delta 1), pack-reused 0\u001b[K\n",
            "Unpacking objects: 100% (54/54), done.\n",
            "/content/working_dir/44_tf_data_pipeline_exercise/working_dir\n",
            "total 28\n",
            "drwxr-xr-x 5 root root 4096 Oct 24 07:51 .\n",
            "drwxr-xr-x 4 root root 4096 Oct 24 07:51 ..\n",
            "drwxr-xr-x 3 root root 4096 Oct 24 07:51 44_tf_data_pipeline_exercise\n",
            "drwxr-xr-x 2 root root 4096 Oct 24 07:51 6_gradient_descent_exercise\n",
            "drwxr-xr-x 8 root root 4096 Oct 24 07:51 .git\n",
            "-rw-r--r-- 1 root root 1065 Oct 24 07:51 LICENSE\n",
            "-rw-r--r-- 1 root root  107 Oct 24 07:51 README.md\n"
          ]
        }
      ]
    },
    {
      "cell_type": "code",
      "metadata": {
        "id": "dz1J4fy9O8qy",
        "colab": {
          "base_uri": "https://localhost:8080/"
        },
        "outputId": "7e7602d2-a10b-4243-8366-d867f35c0371"
      },
      "source": [
        "# Navigate to the exercise working directory\n",
        "%cd 44_tf_data_pipeline_exercise\n",
        "!ls -la"
      ],
      "execution_count": 29,
      "outputs": [
        {
          "output_type": "stream",
          "name": "stdout",
          "text": [
            "/content/working_dir/44_tf_data_pipeline_exercise/working_dir/44_tf_data_pipeline_exercise\n",
            "total 16\n",
            "drwxr-xr-x 3 root root 4096 Oct 24 07:51 .\n",
            "drwxr-xr-x 5 root root 4096 Oct 24 07:51 ..\n",
            "drwxr-xr-x 4 root root 4096 Oct 24 07:51 reviews\n",
            "-rw-r--r-- 1 root root  828 Oct 24 07:51 tf_data_pipeline_exercise.md\n"
          ]
        }
      ]
    },
    {
      "cell_type": "markdown",
      "metadata": {
        "id": "ata9HaYrQlP0"
      },
      "source": [
        "## Load files for creating dataset"
      ]
    },
    {
      "cell_type": "code",
      "metadata": {
        "id": "xUM5yvQNI5H8",
        "colab": {
          "base_uri": "https://localhost:8080/"
        },
        "outputId": "fc77e3ff-c16d-426e-9284-780cdd32fc56"
      },
      "source": [
        "dataset = tf.data.Dataset.list_files('reviews/*/*', shuffle=False)\n",
        "dataset"
      ],
      "execution_count": 30,
      "outputs": [
        {
          "output_type": "execute_result",
          "data": {
            "text/plain": [
              "<TensorSliceDataset shapes: (), types: tf.string>"
            ]
          },
          "metadata": {},
          "execution_count": 30
        }
      ]
    },
    {
      "cell_type": "code",
      "metadata": {
        "id": "YptbzqueP3Ti",
        "colab": {
          "base_uri": "https://localhost:8080/"
        },
        "outputId": "affdd737-8cdb-4537-b01b-a4643f47f68e"
      },
      "source": [
        "# Take 2 samples\n",
        "for file in dataset.take(2):\n",
        "  print(file.numpy())"
      ],
      "execution_count": 31,
      "outputs": [
        {
          "output_type": "stream",
          "name": "stdout",
          "text": [
            "b'reviews/negative/neg_1.txt'\n",
            "b'reviews/negative/neg_2.txt'\n"
          ]
        }
      ]
    },
    {
      "cell_type": "code",
      "metadata": {
        "id": "UMjDdB5uSBZ3",
        "outputId": "5b8eb6d5-eab0-4c0d-9e7b-c0a9a9330858",
        "colab": {
          "base_uri": "https://localhost:8080/"
        }
      },
      "source": [
        "len(dataset)"
      ],
      "execution_count": 32,
      "outputs": [
        {
          "output_type": "execute_result",
          "data": {
            "text/plain": [
              "6"
            ]
          },
          "metadata": {},
          "execution_count": 32
        }
      ]
    },
    {
      "cell_type": "markdown",
      "metadata": {
        "id": "4X2-Mf-GRGGa"
      },
      "source": [
        "# Create data input pipeline"
      ]
    },
    {
      "cell_type": "markdown",
      "metadata": {
        "id": "s1ZRaa7_YNUZ"
      },
      "source": [
        "## 1. Read text review and generate a label from folder name. Dataset has review text and label as tuple"
      ]
    },
    {
      "cell_type": "code",
      "metadata": {
        "id": "xn8FJlRoROEu",
        "outputId": "5601cec4-edfa-4619-92ef-de2844c8eb12",
        "colab": {
          "base_uri": "https://localhost:8080/"
        }
      },
      "source": [
        "# Take all files\n",
        "for file in dataset:\n",
        "  print(file.numpy())"
      ],
      "execution_count": 49,
      "outputs": [
        {
          "output_type": "stream",
          "name": "stdout",
          "text": [
            "b'reviews/negative/neg_1.txt'\n",
            "b'reviews/negative/neg_2.txt'\n",
            "b'reviews/negative/neg_3.txt'\n",
            "b'reviews/positive/pos_1.txt'\n",
            "b'reviews/positive/pos_2.txt'\n",
            "b'reviews/positive/pos_3.txt'\n"
          ]
        }
      ]
    },
    {
      "cell_type": "code",
      "metadata": {
        "id": "WMgSWkfyaiHR",
        "outputId": "c43813ad-81e0-4d55-bc7e-633880f2a0ad",
        "colab": {
          "base_uri": "https://localhost:8080/"
        }
      },
      "source": [
        "type(dataset)"
      ],
      "execution_count": 50,
      "outputs": [
        {
          "output_type": "execute_result",
          "data": {
            "text/plain": [
              "tensorflow.python.data.ops.dataset_ops.TensorSliceDataset"
            ]
          },
          "metadata": {},
          "execution_count": 50
        }
      ]
    },
    {
      "cell_type": "code",
      "metadata": {
        "id": "wBrIgh6lX78C"
      },
      "source": [
        "# Method to get labels from folder name\n",
        "def get_label(file_path):\n",
        "  import os\n",
        "  parts = tf.strings.split(file_path, os.path.sep)\n",
        "  return parts[-2]"
      ],
      "execution_count": 57,
      "outputs": []
    },
    {
      "cell_type": "code",
      "metadata": {
        "id": "NnCGyw9fYys6",
        "outputId": "8656907e-d7a2-47c9-ea8a-b5b8d74ec530",
        "colab": {
          "base_uri": "https://localhost:8080/"
        }
      },
      "source": [
        "# Create an empty set for storing labels of dataset\n",
        "labels = set()\n",
        "\n",
        "# Extract labels from folder names\n",
        "for data in dataset:\n",
        "  label = get_label(data).numpy()\n",
        "  if label not in labels:\n",
        "    labels.add(label)\n",
        "\n",
        "print(labels)"
      ],
      "execution_count": 63,
      "outputs": [
        {
          "output_type": "stream",
          "name": "stdout",
          "text": [
            "{b'positive', b'negative'}\n"
          ]
        }
      ]
    },
    {
      "cell_type": "code",
      "metadata": {
        "id": "6OA_76ReeugY"
      },
      "source": [
        "def text_review(filepath):\n",
        "  label = get_label(filepath)\n",
        "  txt_review = tf.io.read_file(filepath)\n",
        "  return txt_review , label"
      ],
      "execution_count": 151,
      "outputs": []
    },
    {
      "cell_type": "code",
      "metadata": {
        "id": "XzTI9Jdwg6LE",
        "outputId": "3b57c487-13c3-470f-e989-d4fc2fdc0916",
        "colab": {
          "base_uri": "https://localhost:8080/"
        }
      },
      "source": [
        "# Read text review and generate a label from folder name.\n",
        "# Dataset has review text and label as tuple\n",
        "for data in dataset.take(1):\n",
        "  txt, label = text_review(data)\n",
        "\n",
        "print(type(txt))\n",
        "# print(label)"
      ],
      "execution_count": 152,
      "outputs": [
        {
          "output_type": "stream",
          "name": "stdout",
          "text": [
            "<class 'tensorflow.python.framework.ops.EagerTensor'>\n"
          ]
        }
      ]
    },
    {
      "cell_type": "code",
      "metadata": {
        "id": "U7cWyOJrpift"
      },
      "source": [
        "review_dataset = dataset.map(text_review)"
      ],
      "execution_count": 153,
      "outputs": []
    },
    {
      "cell_type": "markdown",
      "metadata": {
        "id": "jHFB3epEjPcw"
      },
      "source": [
        "## 2. Filter blank text review"
      ]
    },
    {
      "cell_type": "code",
      "metadata": {
        "id": "3G_q8Krcps8Z"
      },
      "source": [
        "filtered_dataset = review_dataset.filter(c)"
      ],
      "execution_count": 156,
      "outputs": []
    },
    {
      "cell_type": "code",
      "metadata": {
        "id": "Difu_fn0qCA5",
        "outputId": "ec9247bf-5923-4d22-9460-3b6c7a3f717a",
        "colab": {
          "base_uri": "https://localhost:8080/"
        }
      },
      "source": [
        "# Verify the result\n",
        "for file_name, label in filtered_dataset:\n",
        "  print(\"Text: \", file_name.numpy()[:50])\n",
        "  print(\"Label: \", label)"
      ],
      "execution_count": 158,
      "outputs": [
        {
          "output_type": "stream",
          "name": "stdout",
          "text": [
            "Text:  b\"Basically there's a family where a little boy (Jak\"\n",
            "Label:  tf.Tensor(b'negative', shape=(), dtype=string)\n",
            "Text:  b'This show was an amazing, fresh & innovative idea '\n",
            "Label:  tf.Tensor(b'negative', shape=(), dtype=string)\n",
            "Text:  b'One of the other reviewers has mentioned that afte'\n",
            "Label:  tf.Tensor(b'positive', shape=(), dtype=string)\n",
            "Text:  b'A wonderful little production. <br /><br />The fil'\n",
            "Label:  tf.Tensor(b'positive', shape=(), dtype=string)\n"
          ]
        }
      ]
    },
    {
      "cell_type": "markdown",
      "metadata": {
        "id": "WPqIn9BAsWnL"
      },
      "source": [
        "## 3. Do all of the above transformations in single line of code.\n",
        "## Also shuffle all the reviews"
      ]
    },
    {
      "cell_type": "code",
      "metadata": {
        "id": "Tciw3Qz1slTJ"
      },
      "source": [
        "# Tensorflow data pipeline\n",
        "pipeline_dataset = tf.data.Dataset.list_files('reviews/*/*', shuffle=True).map(text_review).filter(lambda txt, label: txt!=\"\")"
      ],
      "execution_count": 159,
      "outputs": []
    },
    {
      "cell_type": "code",
      "metadata": {
        "id": "VttRA5mntNhy",
        "outputId": "a7601607-43b4-44be-8e33-9e7b686bc858",
        "colab": {
          "base_uri": "https://localhost:8080/"
        }
      },
      "source": [
        "# Verify the result\n",
        "for text, label in pipeline_dataset:\n",
        "  print(\"Text: \", text.numpy()[:70])\n",
        "  print(\"Label\", label)\n",
        "  print(\"*\" * 70)"
      ],
      "execution_count": 163,
      "outputs": [
        {
          "output_type": "stream",
          "name": "stdout",
          "text": [
            "Text:  b\"This show was an amazing, fresh & innovative idea in the 70's when it \"\n",
            "Label tf.Tensor(b'negative', shape=(), dtype=string)\n",
            "**********************************************************************\n",
            "Text:  b'A wonderful little production. <br /><br />The filming technique is ve'\n",
            "Label tf.Tensor(b'positive', shape=(), dtype=string)\n",
            "**********************************************************************\n",
            "Text:  b\"Basically there's a family where a little boy (Jake) thinks there's a \"\n",
            "Label tf.Tensor(b'negative', shape=(), dtype=string)\n",
            "**********************************************************************\n",
            "Text:  b'One of the other reviewers has mentioned that after watching just 1 Oz'\n",
            "Label tf.Tensor(b'positive', shape=(), dtype=string)\n",
            "**********************************************************************\n"
          ]
        }
      ]
    }
  ]
}